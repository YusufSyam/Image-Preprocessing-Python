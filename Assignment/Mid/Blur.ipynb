{
 "metadata": {
  "language_info": {
   "codemirror_mode": {
    "name": "ipython",
    "version": 3
   },
   "file_extension": ".py",
   "mimetype": "text/x-python",
   "name": "python",
   "nbconvert_exporter": "python",
   "pygments_lexer": "ipython3",
   "version": 3
  },
  "orig_nbformat": 2
 },
 "nbformat": 4,
 "nbformat_minor": 2,
 "cells": [
  {
   "cell_type": "code",
   "execution_count": null,
   "metadata": {},
   "outputs": [],
   "source": [
    "import numpy as np\n",
    "import matplotlib.pyplot as plt\n",
    "import imageio\n",
    "import colorsys\n",
    "\n",
    "# Membuat fungsi-fungsi yang akan digunakan nanti\n",
    "rgb_hsv = np.vectorize(colorsys.rgb_to_hsv)\n",
    "hsv_rgb = np.vectorize(colorsys.hsv_to_rgb)\n",
    "rgb_yiq = np.vectorize(colorsys.rgb_to_yiq)\n",
    "yiq_rgb = np.vectorize(colorsys.yiq_to_rgb)\n",
    "\n",
    "# No. 1\n",
    "img1 = imageio.imread('bird.jpeg')\n",
    "\n",
    "# Variabel r, g, b secara berurutan merupakan citra grayscale red, green dan blue\n",
    "r = img1[:, :, 0]\n",
    "g = img1[:, :, 1]\n",
    "b = img1[:, :, 2]\n",
    "\n",
    "# Fungsi subplots untuk menampilkan gambar dalam dimensi 1 baris 3 kolom\n",
    "fig1, img1_rgb = plt.subplots(1,3,figsize=(15,15))\n",
    "\n",
    "img1_rgb[0].imshow(r, cmap='gray')\n",
    "img1_rgb[0].set_title('Red')\n",
    "\n",
    "img1_rgb[1].imshow(g, cmap='gray')\n",
    "img1_rgb[1].set_title('Green')\n",
    "\n",
    "img1_rgb[2].imshow(b, cmap='gray')\n",
    "img1_rgb[2].set_title('Blue')\n",
    "\n",
    "# Menampilkan citra grayscale r, g dan b\n",
    "plt.show()"
   ]
  }
 ]
}